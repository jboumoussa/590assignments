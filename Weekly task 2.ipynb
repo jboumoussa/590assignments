{
 "cells": [
  {
   "cell_type": "code",
   "execution_count": 1,
   "id": "a7e00764",
   "metadata": {},
   "outputs": [],
   "source": [
    "import numpy as np"
   ]
  },
  {
   "cell_type": "markdown",
   "id": "28a436b2",
   "metadata": {},
   "source": [
    "PROMPT 1"
   ]
  },
  {
   "cell_type": "code",
   "execution_count": 24,
   "id": "66091fda",
   "metadata": {
    "scrolled": true
   },
   "outputs": [],
   "source": [
    "Country_List=['Germany', 'Canada', 'Lebanon', 'Egypt', 'Italy', 'China', 'Brazil', 'Turkey', 'Peru', 'Cuba']"
   ]
  },
  {
   "cell_type": "markdown",
   "id": "a6adbdc2",
   "metadata": {},
   "source": [
    "PROMPT 2"
   ]
  },
  {
   "cell_type": "markdown",
   "id": "ec5252bd",
   "metadata": {},
   "source": [
    "I just created a list of my 10 countries. I named this list \"Country_List.\" I let python know it was a list of strings by using brackets and apostrophes."
   ]
  },
  {
   "cell_type": "markdown",
   "id": "ec61f3f7",
   "metadata": {},
   "source": [
    "Now, I will create a dictionary and map those countries to their capitols. This can be achieved by the command \"Dict =\" and the use of curly brackets. The keys will be the countries, and their capitols will be the values. "
   ]
  },
  {
   "cell_type": "code",
   "execution_count": 7,
   "id": "086f55fc",
   "metadata": {},
   "outputs": [],
   "source": [
    "dict = {'Germany':'Berlin', 'Canada':'Ottawa', 'Lebanon':'Beirut', 'Egypt':'Cairo', 'Italy':'Rome', 'China':'Beijing', 'Brazil':'Brasilia', 'Turkey':'Ankara', 'Peru':'Lima', 'Cuba':'Havana'}"
   ]
  },
  {
   "cell_type": "code",
   "execution_count": 10,
   "id": "6f9d7573",
   "metadata": {},
   "outputs": [],
   "source": [
    "Country_Capitols = Country_List"
   ]
  },
  {
   "cell_type": "code",
   "execution_count": 11,
   "id": "8032343c",
   "metadata": {},
   "outputs": [
    {
     "data": {
      "text/plain": [
       "['Germany',\n",
       " 'Canada',\n",
       " 'Lebanon',\n",
       " 'Egypt',\n",
       " 'Italy',\n",
       " 'China',\n",
       " 'Brazil',\n",
       " 'Turkey',\n",
       " 'Peru',\n",
       " 'Cuba']"
      ]
     },
     "execution_count": 11,
     "metadata": {},
     "output_type": "execute_result"
    }
   ],
   "source": [
    "Country_Capitols"
   ]
  },
  {
   "cell_type": "markdown",
   "id": "a9fe57b2",
   "metadata": {},
   "source": [
    "I believe I might have misinterpreted the prompt, I will now revert Country_Capitols to it's original name, and assign the dictionary to that variable."
   ]
  },
  {
   "cell_type": "code",
   "execution_count": 12,
   "id": "34ad677e",
   "metadata": {},
   "outputs": [],
   "source": [
    "Country_List = Country_Capitols"
   ]
  },
  {
   "cell_type": "code",
   "execution_count": 14,
   "id": "c7e994f4",
   "metadata": {},
   "outputs": [
    {
     "data": {
      "text/plain": [
       "['Germany',\n",
       " 'Canada',\n",
       " 'Lebanon',\n",
       " 'Egypt',\n",
       " 'Italy',\n",
       " 'China',\n",
       " 'Brazil',\n",
       " 'Turkey',\n",
       " 'Peru',\n",
       " 'Cuba']"
      ]
     },
     "execution_count": 14,
     "metadata": {},
     "output_type": "execute_result"
    }
   ],
   "source": [
    "Country_List"
   ]
  },
  {
   "cell_type": "code",
   "execution_count": 15,
   "id": "31a6bade",
   "metadata": {},
   "outputs": [],
   "source": [
    "Country_Capitols = dict"
   ]
  },
  {
   "cell_type": "code",
   "execution_count": 16,
   "id": "04e1fd8b",
   "metadata": {},
   "outputs": [
    {
     "data": {
      "text/plain": [
       "{'Germany': 'Berlin',\n",
       " 'Canada': 'Ottawa',\n",
       " 'Lebanon': 'Beirut',\n",
       " 'Egypt': 'Cairo',\n",
       " 'Italy': 'Rome',\n",
       " 'China': 'Beijing',\n",
       " 'Brazil': 'Brasilia',\n",
       " 'Turkey': 'Ankara',\n",
       " 'Peru': 'Lima',\n",
       " 'Cuba': 'Havana'}"
      ]
     },
     "execution_count": 16,
     "metadata": {},
     "output_type": "execute_result"
    }
   ],
   "source": [
    "Country_Capitols"
   ]
  },
  {
   "cell_type": "markdown",
   "id": "fd16fd5e",
   "metadata": {},
   "source": [
    "PROMPT 3"
   ]
  },
  {
   "cell_type": "markdown",
   "id": "aebc71cc",
   "metadata": {},
   "source": [
    "Now, I will add another Country and It's capitol to the list. To do this, I will need to add another country to the list, and then map it to a value- it's Capitol."
   ]
  },
  {
   "cell_type": "code",
   "execution_count": 17,
   "id": "7669b239",
   "metadata": {},
   "outputs": [],
   "source": [
    "Country_List=['Germany', 'Canada', 'Lebanon', 'Egypt', 'Italy', 'China', 'Brazil', 'Turkey', 'Peru', 'Cuba', 'Poland']"
   ]
  },
  {
   "cell_type": "code",
   "execution_count": 18,
   "id": "799e1105",
   "metadata": {},
   "outputs": [],
   "source": [
    "Country_Capitols = {'Germany':'Berlin', 'Canada':'Ottawa', 'Lebanon':'Beirut', 'Egypt':'Cairo', 'Italy':'Rome', 'China':'Beijing', 'Brazil':'Brasilia', 'Turkey':'Ankara', 'Peru':'Lima', 'Cuba':'Havana', 'Poland': 'Warsaw'}"
   ]
  },
  {
   "cell_type": "code",
   "execution_count": 19,
   "id": "e8932469",
   "metadata": {},
   "outputs": [
    {
     "data": {
      "text/plain": [
       "{'Germany': 'Berlin',\n",
       " 'Canada': 'Ottawa',\n",
       " 'Lebanon': 'Beirut',\n",
       " 'Egypt': 'Cairo',\n",
       " 'Italy': 'Rome',\n",
       " 'China': 'Beijing',\n",
       " 'Brazil': 'Brasilia',\n",
       " 'Turkey': 'Ankara',\n",
       " 'Peru': 'Lima',\n",
       " 'Cuba': 'Havana',\n",
       " 'Poland': 'Warsaw'}"
      ]
     },
     "execution_count": 19,
     "metadata": {},
     "output_type": "execute_result"
    }
   ],
   "source": [
    "Country_Capitols"
   ]
  },
  {
   "cell_type": "markdown",
   "id": "1f0bdb9a",
   "metadata": {},
   "source": [
    "PROMPT 4"
   ]
  },
  {
   "cell_type": "code",
   "execution_count": 21,
   "id": "41071cf3",
   "metadata": {},
   "outputs": [
    {
     "name": "stdout",
     "output_type": "stream",
     "text": [
      "['Egypt', 'Italy', 'China', 'Brazil', 'Turkey']\n"
     ]
    }
   ],
   "source": [
    "print(Country_List[3:8])"
   ]
  },
  {
   "cell_type": "markdown",
   "id": "7f3e441b",
   "metadata": {},
   "source": [
    "I used the command \"print\" to slice my country list to reveal the items in positions 3 through 8."
   ]
  },
  {
   "cell_type": "markdown",
   "id": "db7432dc",
   "metadata": {},
   "source": [
    "PROMPT 5"
   ]
  },
  {
   "cell_type": "markdown",
   "id": "9fd53d3c",
   "metadata": {},
   "source": [
    "I will now create a second country list that has atleast a couple similarities with my first one."
   ]
  },
  {
   "cell_type": "code",
   "execution_count": 23,
   "id": "e2d08c11",
   "metadata": {},
   "outputs": [],
   "source": [
    "Country_List2=[ 'Australia', 'Thailand', 'India', 'Pakistan', 'Angola', 'Uganda', 'Canada', 'Lebanon', 'Turkey', 'Peru']"
   ]
  },
  {
   "cell_type": "code",
   "execution_count": 25,
   "id": "66769c25",
   "metadata": {},
   "outputs": [
    {
     "data": {
      "text/plain": [
       "['Germany',\n",
       " 'Canada',\n",
       " 'Lebanon',\n",
       " 'Egypt',\n",
       " 'Italy',\n",
       " 'China',\n",
       " 'Brazil',\n",
       " 'Turkey',\n",
       " 'Peru',\n",
       " 'Cuba']"
      ]
     },
     "execution_count": 25,
     "metadata": {},
     "output_type": "execute_result"
    }
   ],
   "source": [
    "Country_List"
   ]
  },
  {
   "cell_type": "code",
   "execution_count": 26,
   "id": "34b270c6",
   "metadata": {},
   "outputs": [
    {
     "data": {
      "text/plain": [
       "['Australia',\n",
       " 'Thailand',\n",
       " 'India',\n",
       " 'Pakistan',\n",
       " 'Angola',\n",
       " 'Uganda',\n",
       " 'Canada',\n",
       " 'Lebanon',\n",
       " 'Turkey',\n",
       " 'Peru']"
      ]
     },
     "execution_count": 26,
     "metadata": {},
     "output_type": "execute_result"
    }
   ],
   "source": [
    "Country_List2"
   ]
  },
  {
   "cell_type": "code",
   "execution_count": 27,
   "id": "1777b8e1",
   "metadata": {},
   "outputs": [
    {
     "data": {
      "text/plain": [
       "False"
      ]
     },
     "execution_count": 27,
     "metadata": {},
     "output_type": "execute_result"
    }
   ],
   "source": [
    "Country_List == Country_List2"
   ]
  },
  {
   "cell_type": "markdown",
   "id": "7518696c",
   "metadata": {},
   "source": [
    "I will now use a command I found on this website https://java2blog.com/find-common-elements-in-two-lists-python/#:~:text=Using%20%26%20Operator-,Using%20the%20intersection()%20Function,are%20common%20in%20two%20sets. to create a new variable that contains the common elements from Country_List & Country_List2."
   ]
  },
  {
   "cell_type": "code",
   "execution_count": 28,
   "id": "08df1146",
   "metadata": {},
   "outputs": [],
   "source": [
    "common_list = set(Country_List).intersection(Country_List2)"
   ]
  },
  {
   "cell_type": "markdown",
   "id": "5b17b814",
   "metadata": {},
   "source": [
    "The command \"set\" is used to convert out first list into a set. We then use \"intersection\" to set our second as parameters to find any common elements between the two."
   ]
  },
  {
   "cell_type": "code",
   "execution_count": 29,
   "id": "c588c0e1",
   "metadata": {},
   "outputs": [
    {
     "data": {
      "text/plain": [
       "{'Canada', 'Lebanon', 'Peru', 'Turkey'}"
      ]
     },
     "execution_count": 29,
     "metadata": {},
     "output_type": "execute_result"
    }
   ],
   "source": [
    "common_list"
   ]
  },
  {
   "cell_type": "markdown",
   "id": "2308802f",
   "metadata": {},
   "source": [
    "This assignment has been completed"
   ]
  },
  {
   "cell_type": "code",
   "execution_count": null,
   "id": "c94900ca",
   "metadata": {},
   "outputs": [],
   "source": []
  }
 ],
 "metadata": {
  "kernelspec": {
   "display_name": "Python 3 (ipykernel)",
   "language": "python",
   "name": "python3"
  },
  "language_info": {
   "codemirror_mode": {
    "name": "ipython",
    "version": 3
   },
   "file_extension": ".py",
   "mimetype": "text/x-python",
   "name": "python",
   "nbconvert_exporter": "python",
   "pygments_lexer": "ipython3",
   "version": "3.9.13"
  }
 },
 "nbformat": 4,
 "nbformat_minor": 5
}
